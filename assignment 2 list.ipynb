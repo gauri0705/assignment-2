{
 "cells": [
  {
   "cell_type": "code",
   "execution_count": 3,
   "id": "869ac986",
   "metadata": {},
   "outputs": [
    {
     "name": "stdout",
     "output_type": "stream",
     "text": [
      "[(2, 1), (1, 2), (2, 3), (4, 4), (2, 5)]\n"
     ]
    }
   ],
   "source": [
    "#write python program to get a list, sorted in increasing order by the last element in each tuple from a given\n",
    "#list of non-empty tuples\n",
    "\n",
    "def return_last_element(tuple_items):\n",
    "    return tuple_items[-1]\n",
    "list=[(2,5),(1,2),(4,4),(2,3),(2,1)]\n",
    "result_list=sorted(list,key=return_last_element)\n",
    "print(result_list)"
   ]
  },
  {
   "cell_type": "code",
   "execution_count": 4,
   "id": "18890a3e",
   "metadata": {},
   "outputs": [
    {
     "name": "stdout",
     "output_type": "stream",
     "text": [
      "[(1, 2), (2, 5), (2, 3), (2, 1), (4, 4)]\n"
     ]
    }
   ],
   "source": [
    "def return_last_element(tuple_items):\n",
    "    return tuple_items[0]\n",
    "list=[(2,5),(1,2),(4,4),(2,3),(2,1)]\n",
    "result_list=sorted(list,key=return_last_element)\n",
    "print(result_list)"
   ]
  },
  {
   "cell_type": "code",
   "execution_count": null,
   "id": "7d621323",
   "metadata": {},
   "outputs": [],
   "source": []
  }
 ],
 "metadata": {
  "kernelspec": {
   "display_name": "Python 3 (ipykernel)",
   "language": "python",
   "name": "python3"
  },
  "language_info": {
   "codemirror_mode": {
    "name": "ipython",
    "version": 3
   },
   "file_extension": ".py",
   "mimetype": "text/x-python",
   "name": "python",
   "nbconvert_exporter": "python",
   "pygments_lexer": "ipython3",
   "version": "3.9.13"
  }
 },
 "nbformat": 4,
 "nbformat_minor": 5
}
